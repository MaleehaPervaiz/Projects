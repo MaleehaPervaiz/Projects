{
  "cells": [
    {
      "cell_type": "markdown",
      "metadata": {
        "id": "view-in-github",
        "colab_type": "text"
      },
      "source": [
        "<a href=\"https://colab.research.google.com/github/MaleehaPervaiz/Projects/blob/main/Rule_Based_Chatbot.ipynb\" target=\"_parent\"><img src=\"https://colab.research.google.com/assets/colab-badge.svg\" alt=\"Open In Colab\"/></a>"
      ]
    },
    {
      "cell_type": "code",
      "execution_count": 10,
      "metadata": {
        "colab": {
          "base_uri": "https://localhost:8080/"
        },
        "id": "rpEmbmQyEesi",
        "outputId": "8b815806-001f-44ed-d093-d8d8ba8f6d4f"
      },
      "outputs": [
        {
          "output_type": "stream",
          "name": "stderr",
          "text": [
            "[nltk_data] Downloading package punkt to /root/nltk_data...\n",
            "[nltk_data]   Package punkt is already up-to-date!\n",
            "[nltk_data] Downloading package stopwords to /root/nltk_data...\n",
            "[nltk_data]   Package stopwords is already up-to-date!\n"
          ]
        },
        {
          "output_type": "stream",
          "name": "stdout",
          "text": [
            "Hotel Registration Bot: Hello! Welcome to our hotel registration bot. How can I assist you today?\n",
            "You: I want to book a room\n",
            "Hotel Registration Bot: Sure, I can help you with that. Please enter the check-in date and check-out date in the format YYYY-MM-DD.\n",
            "You: 2023-10-16 2023-10-30\n",
            "Thank you! Please confirm your reservation. You've selected check-in date: 2023-10-16 and check-out date: 2023-10-30.\n",
            "You: Confirm booking\n",
            "Hotel Registration Bot: Thank you for confirming your booking. Your reservation is complete.\n",
            "You: Can i know the available rooms\n",
            "Hotel Registration Bot: We offer various room types including single, double, and suites. Which one are you interested in?\n",
            "You: What are the cost of the rooms\n",
            "Hotel Registration Bot: The room rates vary based on the room type and dates. When are you planning to stay?\n",
            "You: Is dining available?\n",
            "Hotel Registration Bot: We have an on-site restaurant that offers a variety of cuisines. Would you like to make a restaurant reservation?\n",
            "You: What are the services you provide?\n",
            "Hotel Registration Bot: Our hotel offers amenities such as a swimming pool, fitness center, and free Wi-Fi. Is there anything specific you'd like to know?\n",
            "You: What are the things to do here?\n",
            "Hotel Registration Bot: Hello! Welcome to our hotel reservation bot. How can I assist you today?\n",
            "You: What are the nearby attractions here?\n",
            "Hotel Registration Bot: We can provide information about nearby attractions and activities. Just let us know your interests.\n",
            "You: Quit\n",
            "Hotel Registration Bot: I'm not sure how to respond to that. Can you please rephrase your question?\n",
            "Hotel Registration Bot: Goodbye!\n"
          ]
        }
      ],
      "source": [
        "import re\n",
        "import nltk\n",
        "import datetime\n",
        "from nltk.corpus import stopwords\n",
        "\n",
        "# Download NLTK data (if not already downloaded)\n",
        "nltk.download('punkt')\n",
        "nltk.download('stopwords')\n",
        "\n",
        "# Define patterns and responses\n",
        "patterns = [\n",
        "    (r\"(hi|hello|hey)\", \"Hello! Welcome to our hotel reservation bot. How can I assist you today?\"),\n",
        "    (r\"book a room|reserve a room\", \"Sure, I can help you with that. Please enter the check-in date and check-out date in the format YYYY-MM-DD.\"),\n",
        "    (r\"(\\d{4}-\\d{2}-\\d{1,2}).*(\\d{4}-\\d{2}-\\d{1,2})\", \"Thank you! Please Confirm your reservation. You've selected check-in date: {check_in_date} and check-out date: {check_out_date}.\"),\n",
        "    (r\"(confirm|complete).*booking\", \"Thank you for confirming your booking. Your reservation is complete.\"),\n",
        "    (r\"(room types|available rooms|room options)\", \"We offer various room types including single, double, and suites. Which one are you interested in?\"),\n",
        "    (r\"(price|cost|rate|pricing)\", \"The room rates vary based on the room type and dates. When are you planning to stay?\"),\n",
        "    (r\"(restaurant|dining|food)\", \"We have an on-site restaurant that offers a variety of cuisines. Would you like to make a restaurant reservation?\"),\n",
        "    (r\"(amenities|facilities|services)\", \"Our hotel offers amenities such as a swimming pool, fitness center, and free Wi-Fi. Is there anything specific you'd like to know?\"),\n",
        "    (r\"(nearby attractions|sightseeing)\", \"We can provide information about nearby attractions and activities. Just let us know your interests.\"),\n",
        "    (r\"(customer reviews|ratings)\", \"Our hotel has received positive reviews. You can check our website or ask for recommendations.\")\n",
        "]\n",
        "\n",
        "# Initialize the chatbot\n",
        "def hotel_registration_chatbot():\n",
        "    print(\"Hotel Registration Bot: Hello! Welcome to our hotel registration bot. How can I assist you today?\")\n",
        "\n",
        "    check_in_date = None\n",
        "    check_out_date = None\n",
        "\n",
        "    while True:\n",
        "        user_input = input(\"You: \").lower()\n",
        "\n",
        "        if any(re.search(pattern, user_input) for pattern, _ in patterns):\n",
        "            for pattern, response in patterns:\n",
        "                match = re.search(pattern, user_input)\n",
        "                if match:\n",
        "                    if pattern == r\"(\\d{4}-\\d{2}-\\d{1,2}).*(\\d{4}-\\d{2}-\\d{1,2})\":\n",
        "                        # Extract dates and store them\n",
        "                        check_in_match = match.group(1)\n",
        "                        check_out_match = match.group(2)\n",
        "\n",
        "                        check_in_date = datetime.datetime.strptime(check_in_match, \"%Y-%m-%d\").date()\n",
        "                        check_out_date = datetime.datetime.strptime(check_out_match, \"%Y-%m-%d\").date()\n",
        "\n",
        "                        if check_in_date > check_out_date:\n",
        "                            print(\"Hotel Registration Bot: Check-in date cannot be later than check-out date.\")\n",
        "                        else:\n",
        "                            print(f\"Thank you! Please confirm your reservation. You've selected check-in date: {check_in_date} and check-out date: {check_out_date}.\")\n",
        "                    elif pattern == r\"(confirm|complete) booking\":\n",
        "                        if check_in_date and check_out_date:\n",
        "                            print(\"Hotel Registration Bot: Thank you for confirming your booking. Your reservation is complete.\")\n",
        "                        else:\n",
        "                            print(\"Hotel Registration Bot: Please enter valid check-in and check-out dates before confirming the booking.\")\n",
        "                    else:\n",
        "                        print(\"Hotel Registration Bot:\", response)\n",
        "                    break\n",
        "        else:\n",
        "            print(\"Hotel Registration Bot: I'm not sure how to respond to that. Can you please rephrase your question?\")\n",
        "\n",
        "        if re.search(r\"exit|quit|bye\", user_input):\n",
        "            print(\"Hotel Registration Bot: Goodbye!\")\n",
        "            break\n",
        "\n",
        "# Start the chatbot\n",
        "hotel_registration_chatbot()"
      ]
    },
    {
      "cell_type": "markdown",
      "metadata": {
        "id": "hEFgI3GcFFD4"
      },
      "source": [
        "# New Section"
      ]
    },
    {
      "cell_type": "markdown",
      "metadata": {
        "id": "cgwS8ZlVFFl9"
      },
      "source": [
        "# New Section"
      ]
    }
  ],
  "metadata": {
    "colab": {
      "provenance": [],
      "include_colab_link": true
    },
    "kernelspec": {
      "display_name": "Python 3",
      "name": "python3"
    },
    "language_info": {
      "name": "python"
    }
  },
  "nbformat": 4,
  "nbformat_minor": 0
}